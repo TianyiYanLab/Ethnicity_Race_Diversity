{
 "cells": [
  {
   "cell_type": "code",
   "execution_count": 7,
   "metadata": {},
   "outputs": [],
   "source": [
    "import abagen\n",
    "files = abagen.fetch_microarray(donors='all', verbose=0)"
   ]
  },
  {
   "cell_type": "code",
   "execution_count": 10,
   "metadata": {},
   "outputs": [
    {
     "name": "stderr",
     "output_type": "stream",
     "text": [
      "/root/anaconda3/envs/zeeresearch/lib/python3.9/site-packages/abagen/probes_.py:147: FutureWarning: DataFrame.groupby with axis=1 is deprecated. Do `frame.T.groupby(...)` without axis instead.\n",
      "  return io.read_microarray(microarray).groupby(sid, axis=1).mean()\n",
      "/root/anaconda3/envs/zeeresearch/lib/python3.9/site-packages/abagen/probes_.py:147: FutureWarning: DataFrame.groupby with axis=1 is deprecated. Do `frame.T.groupby(...)` without axis instead.\n",
      "  return io.read_microarray(microarray).groupby(sid, axis=1).mean()\n",
      "/root/anaconda3/envs/zeeresearch/lib/python3.9/site-packages/abagen/probes_.py:147: FutureWarning: DataFrame.groupby with axis=1 is deprecated. Do `frame.T.groupby(...)` without axis instead.\n",
      "  return io.read_microarray(microarray).groupby(sid, axis=1).mean()\n",
      "/root/anaconda3/envs/zeeresearch/lib/python3.9/site-packages/abagen/probes_.py:147: FutureWarning: DataFrame.groupby with axis=1 is deprecated. Do `frame.T.groupby(...)` without axis instead.\n",
      "  return io.read_microarray(microarray).groupby(sid, axis=1).mean()\n",
      "/root/anaconda3/envs/zeeresearch/lib/python3.9/site-packages/abagen/probes_.py:147: FutureWarning: DataFrame.groupby with axis=1 is deprecated. Do `frame.T.groupby(...)` without axis instead.\n",
      "  return io.read_microarray(microarray).groupby(sid, axis=1).mean()\n",
      "/root/anaconda3/envs/zeeresearch/lib/python3.9/site-packages/abagen/probes_.py:147: FutureWarning: DataFrame.groupby with axis=1 is deprecated. Do `frame.T.groupby(...)` without axis instead.\n",
      "  return io.read_microarray(microarray).groupby(sid, axis=1).mean()\n",
      "/root/anaconda3/envs/zeeresearch/lib/python3.9/site-packages/abagen/samples_.py:405: FutureWarning: The provided callable <function mean at 0x7f20781695e0> is currently using DataFrameGroupBy.mean. In a future version of pandas, the provided callable will be used directly. To keep current behavior pass the string \"mean\" instead.\n",
      "  microarray.groupby('label').aggregate(metric),\n",
      "/root/anaconda3/envs/zeeresearch/lib/python3.9/site-packages/abagen/samples_.py:404: FutureWarning: The behavior of DataFrame concatenation with empty or all-NA entries is deprecated. In a future version, this will no longer exclude empty or all-NA columns when determining the result dtypes. To retain the old behavior, exclude the relevant entries before the concat operation.\n",
      "  gene_by_label = pd.concat([\n",
      "/root/anaconda3/envs/zeeresearch/lib/python3.9/site-packages/abagen/samples_.py:405: FutureWarning: The provided callable <function mean at 0x7f20781695e0> is currently using DataFrameGroupBy.mean. In a future version of pandas, the provided callable will be used directly. To keep current behavior pass the string \"mean\" instead.\n",
      "  microarray.groupby('label').aggregate(metric),\n",
      "/root/anaconda3/envs/zeeresearch/lib/python3.9/site-packages/abagen/samples_.py:404: FutureWarning: The behavior of DataFrame concatenation with empty or all-NA entries is deprecated. In a future version, this will no longer exclude empty or all-NA columns when determining the result dtypes. To retain the old behavior, exclude the relevant entries before the concat operation.\n",
      "  gene_by_label = pd.concat([\n",
      "/root/anaconda3/envs/zeeresearch/lib/python3.9/site-packages/abagen/samples_.py:405: FutureWarning: The provided callable <function mean at 0x7f20781695e0> is currently using DataFrameGroupBy.mean. In a future version of pandas, the provided callable will be used directly. To keep current behavior pass the string \"mean\" instead.\n",
      "  microarray.groupby('label').aggregate(metric),\n",
      "/root/anaconda3/envs/zeeresearch/lib/python3.9/site-packages/abagen/samples_.py:404: FutureWarning: The behavior of DataFrame concatenation with empty or all-NA entries is deprecated. In a future version, this will no longer exclude empty or all-NA columns when determining the result dtypes. To retain the old behavior, exclude the relevant entries before the concat operation.\n",
      "  gene_by_label = pd.concat([\n",
      "/root/anaconda3/envs/zeeresearch/lib/python3.9/site-packages/abagen/samples_.py:405: FutureWarning: The provided callable <function mean at 0x7f20781695e0> is currently using DataFrameGroupBy.mean. In a future version of pandas, the provided callable will be used directly. To keep current behavior pass the string \"mean\" instead.\n",
      "  microarray.groupby('label').aggregate(metric),\n",
      "/root/anaconda3/envs/zeeresearch/lib/python3.9/site-packages/abagen/samples_.py:404: FutureWarning: The behavior of DataFrame concatenation with empty or all-NA entries is deprecated. In a future version, this will no longer exclude empty or all-NA columns when determining the result dtypes. To retain the old behavior, exclude the relevant entries before the concat operation.\n",
      "  gene_by_label = pd.concat([\n",
      "/root/anaconda3/envs/zeeresearch/lib/python3.9/site-packages/abagen/samples_.py:405: FutureWarning: The provided callable <function mean at 0x7f20781695e0> is currently using DataFrameGroupBy.mean. In a future version of pandas, the provided callable will be used directly. To keep current behavior pass the string \"mean\" instead.\n",
      "  microarray.groupby('label').aggregate(metric),\n",
      "/root/anaconda3/envs/zeeresearch/lib/python3.9/site-packages/abagen/samples_.py:404: FutureWarning: The behavior of DataFrame concatenation with empty or all-NA entries is deprecated. In a future version, this will no longer exclude empty or all-NA columns when determining the result dtypes. To retain the old behavior, exclude the relevant entries before the concat operation.\n",
      "  gene_by_label = pd.concat([\n",
      "/root/anaconda3/envs/zeeresearch/lib/python3.9/site-packages/abagen/samples_.py:405: FutureWarning: The provided callable <function mean at 0x7f20781695e0> is currently using DataFrameGroupBy.mean. In a future version of pandas, the provided callable will be used directly. To keep current behavior pass the string \"mean\" instead.\n",
      "  microarray.groupby('label').aggregate(metric),\n",
      "/root/anaconda3/envs/zeeresearch/lib/python3.9/site-packages/abagen/samples_.py:404: FutureWarning: The behavior of DataFrame concatenation with empty or all-NA entries is deprecated. In a future version, this will no longer exclude empty or all-NA columns when determining the result dtypes. To retain the old behavior, exclude the relevant entries before the concat operation.\n",
      "  gene_by_label = pd.concat([\n",
      "/root/anaconda3/envs/zeeresearch/lib/python3.9/site-packages/abagen/samples_.py:481: FutureWarning: The provided callable <function mean at 0x7f20781695e0> is currently using DataFrameGroupBy.mean. In a future version of pandas, the provided callable will be used directly. To keep current behavior pass the string \"mean\" instead.\n",
      "  microarray = pd.concat(microarray).groupby('label').aggregate(metric)\n"
     ]
    }
   ],
   "source": [
    "atlas_image = '/home/user7/AHBA/Atlas/Schaefer2018_400Parcels_Kong2022_17Networks_order_FSLMNI152_1mm.nii.gz'\n",
    "atlas_info = '/home/user7/AHBA/Atlas/Schaefer2018_400Parcels_Kong2022_17Networks_order_FSLMNI152_1mm.csv'\n",
    "#expression = abagen.get_expression_data(atlas=atlas_image,atlas_info=atlas_info)\n",
    "expression = abagen.get_expression_data(atlas=atlas_image,atlas_info=atlas_info,missing='centroids',lr_mirror='bidirectional',return_report=True)"
   ]
  },
  {
   "cell_type": "code",
   "execution_count": 11,
   "metadata": {},
   "outputs": [
    {
     "name": "stdout",
     "output_type": "stream",
     "text": [
      "(gene_symbol      A1BG  A1BG-AS1       A2M     A2ML1   A3GALT2    A4GALT  \\\n",
      "label                                                                     \n",
      "1            0.728479  0.585007  0.653288  0.528808  0.405981  0.552457   \n",
      "2            0.367394  0.426576  0.194637  0.460357  0.533185  0.545738   \n",
      "3            0.227351  0.307361  0.509443  0.640668  0.431072  0.468881   \n",
      "4            0.321791  0.665848  0.527087  0.569565  0.283428  0.560651   \n",
      "5            0.603418  0.616640  0.617392  0.468766  0.597704  0.760381   \n",
      "...               ...       ...       ...       ...       ...       ...   \n",
      "396          0.400917  0.513729  0.516277  0.486419  0.587179  0.643259   \n",
      "397          0.148593  0.249396  0.364085  0.564751  0.575450  0.446277   \n",
      "398          0.275190  0.327129  0.521455  0.471212  0.480041  0.462556   \n",
      "399          0.267606  0.308396  0.445908  0.502179  0.370097  0.350365   \n",
      "400          0.292010  0.335204  0.337784  0.264386  0.521563  0.838259   \n",
      "\n",
      "gene_symbol      AAAS      AACS   AADACL3     AADAT  ...      ZW10    ZWILCH  \\\n",
      "label                                                ...                       \n",
      "1            0.765827  0.291400  0.476562  0.384693  ...  0.489841  0.352906   \n",
      "2            0.348555  0.486899  0.524587  0.560308  ...  0.632647  0.664089   \n",
      "3            0.515932  0.614445  0.417815  0.614189  ...  0.620174  0.410895   \n",
      "4            0.515434  0.844253  0.532428  0.638502  ...  0.554070  0.499404   \n",
      "5            0.263007  0.594801  0.544665  0.342413  ...  0.358313  0.487397   \n",
      "...               ...       ...       ...       ...  ...       ...       ...   \n",
      "396          0.712772  0.594621  0.414393  0.370148  ...  0.523876  0.689578   \n",
      "397          0.659876  0.531495  0.434373  0.644820  ...  0.711881  0.512043   \n",
      "398          0.742075  0.469944  0.465352  0.503440  ...  0.495725  0.535033   \n",
      "399          0.649904  0.383514  0.498995  0.748233  ...  0.639633  0.341951   \n",
      "400          0.651755  0.583625  0.477350  0.229522  ...  0.465762  0.731957   \n",
      "\n",
      "gene_symbol     ZWINT      ZXDA      ZXDB      ZXDC    ZYG11B       ZYX  \\\n",
      "label                                                                     \n",
      "1            0.281462  0.770030  0.279499  0.720641  0.120205  0.563336   \n",
      "2            0.397411  0.516404  0.571849  0.506567  0.711808  0.526386   \n",
      "3            0.376871  0.438249  0.604182  0.399197  0.638553  0.567332   \n",
      "4            0.571313  0.211454  0.390863  0.343542  0.676546  0.490888   \n",
      "5            0.218848  0.258721  0.359050  0.377421  0.409636  0.464962   \n",
      "...               ...       ...       ...       ...       ...       ...   \n",
      "396          0.461169  0.464211  0.569206  0.488037  0.518513  0.857912   \n",
      "397          0.519158  0.759115  0.651265  0.485547  0.494325  0.868017   \n",
      "398          0.453722  0.545587  0.392347  0.481148  0.453044  0.870393   \n",
      "399          0.525649  0.599531  0.540618  0.383106  0.462344  0.719909   \n",
      "400          0.426447  0.408951  0.293594  0.434847  0.603715  0.891544   \n",
      "\n",
      "gene_symbol     ZZEF1      ZZZ3  \n",
      "label                            \n",
      "1            0.420020  0.906732  \n",
      "2            0.566846  0.373230  \n",
      "3            0.568940  0.306920  \n",
      "4            0.574903  0.185845  \n",
      "5            0.456802  0.432681  \n",
      "...               ...       ...  \n",
      "396          0.768410  0.288577  \n",
      "397          0.802666  0.533084  \n",
      "398          0.750299  0.310101  \n",
      "399          0.873568  0.462416  \n",
      "400          0.438579  0.278711  \n",
      "\n",
      "[400 rows x 15632 columns], \"Regional microarry expression data were obtained from 6 post-mortem brains (1 female, ages 24.0--57.0, 42.50 +/- 13.38) provided by the Allen Human Brain Atlas (AHBA, https://human.brain-map.org; [H2012N]). Data were processed with the abagen toolbox (version 0.1.4+15.gdc4a007; https://github.com/rmarkello/abagen; [M2021B]) using a 400-region volumetric atlas in MNI space.\\n\\nFirst, microarray probes were reannotated using data provided by [A2019N]; probes not matched to a valid Entrez ID were discarded. Next, probes were filtered based on their expression intensity relative to background noise [Q2002N], such that probes with intensity less than the background in >=50.00% of samples across donors were discarded , yielding 31,569 probes . When multiple probes indexed the expression of the same gene, we selected and used the probe with the most consistent pattern of regional variation across donors (i.e., differential stability; [H2015N]), calculated with:\\n\\n$$ \\\\Delta_{{S}}(p) = \\\\frac{{1}}{{\\\\binom{{N}}{{2}}}} \\\\, \\\\sum_{{i=1}}^{{N-1}} \\\\sum_{{j=i+1}}^{{N}} \\\\rho[B_{{i}}(p), B_{{j}}(p)] $$\\n\\nwhere $ \\\\rho $ is Spearman's rank correlation of the expression of a single probe, p, across regions in two donors $B_{{i}}$ and $B_{{j}}$, and N is the total number of donors. Here, regions correspond to the structural designations provided in the ontology from the AHBA. \\n\\nThe MNI coordinates of tissue samples were updated to those generated via non-linear registration using the Advanced Normalization Tools (ANTs; https://github.com/chrisfilo/alleninf). To increase spatial coverage, tissue samples were mirrored bilaterally across the left and right hemispheres [R2018N]. Samples were assigned to brain regions in the provided atlas if their MNI coordinates were within 2 mm of a given parcel. To reduce the potential for misassignment, sample-to-region matching was constrained by hemisphere and gross structural divisions (i.e., cortex, subcortex/brainstem, and cerebellum, such that e.g., a sample in the left cortex could only be assigned to an atlas parcel in the left cortex; [A2019N]). If a brain region was not assigned a sample from any donor based on the above procedure, the tissue sample closest to the centroid of that parcel was identified independently for each donor. The average of these samples was taken across donors, weighted by the distance between the parcel centroid and the sample, to obtain an estimate of the parcellated expression values for the missing region. This procedure was performed for 5 regions that were not assigned tissue samples. All tissue samples not assigned to a brain region in the provided atlas were discarded. \\n\\nInter-subject variation was addressed by normalizing tissue sample expression values across genes using a robust sigmoid function [F2013J]:\\n\\n$$ x_{{norm}} = \\\\frac{{1}}{{1 + \\\\exp(-\\\\frac{{(x-\\\\langle x \\\\rangle)}} {{\\\\text{{IQR}}_{{x}}}})}} $$\\n\\nwhere $\\\\langle x \\\\rangle$ is the median and $\\\\text{{IQR}}_{{x}}$ is the normalized interquartile range of the expression of a single tissue sample across genes. Normalized expression values were then rescaled to the unit interval: \\n\\n$$ x_{{scaled}} = \\\\frac{{x_{{norm}} - \\\\min(x_{{norm}})}} {{\\\\max(x_{{norm}}) - \\\\min(x_{{norm}})}} $$\\n\\nGene expression values were then normalized across tissue samples using an identical procedure. Samples assigned to the same brain region were averaged separately for each donor and then across donors, yielding a regional expression matrix with 400 rows, corresponding to brain regions, and 15,632 columns, corresponding to the retained genes \\x08.\\n\\nREFERENCES\\n----------\\n[A2019N]: Arnatkevic̆iūtė, A., Fulcher, B. D., & Fornito, A. (2019). A practical guide to linking brain-wide gene expression and neuroimaging data. Neuroimage, 189, 353-367.\\n[F2013J]: Fulcher, B. D., Little, M. A., & Jones, N. S. (2013). Highly comparative time-series analysis: the empirical structure of time series and their methods. Journal of the Royal Society Interface, 10(83), 20130048.\\n[H2012N]: Hawrylycz, M. J., Lein, E. S., Guillozet-Bongaarts, A. L., Shen, E. H., Ng, L., Miller, J. A., ... & Jones, A. R. (2012). An anatomically comprehensive atlas of the adult human brain transcriptome. Nature, 489(7416), 391-399.\\n[H2015N]: Hawrylycz, M., Miller, J. A., Menon, V., Feng, D., Dolbeare, T., Guillozet-Bongaarts, A. L., ... & Lein, E. (2015). Canonical genetic signatures of the adult human brain. Nature Neuroscience, 18(12), 1832.\\n[M2021B]: Markello, R.D., Arnatkevic̆iūtė, A., Poline, J-B., Fulcher, B. D., Fornito, A., & Misic, B. (2021). Standardizing workflows in imaging transcriptomics with the abagen toolbox. Biorxiv.\\n[Q2002N]: Quackenbush, J. (2002). Microarray data normalization and transformation. Nature Genetics, 32(4), 496-501.\\n[R2018N]: Romero-Garcia, R., Whitaker, K. J., Váša, F., Seidlitz, J., Shinn, M., Fonagy, P., ... & NSPN Consortium. (2018). Structural covariance networks are coupled to expression of genes enriched in supragranular layers of the human cortex. NeuroImage, 171, 256-267.\\n\")\n"
     ]
    }
   ],
   "source": [
    "print(expression)"
   ]
  },
  {
   "cell_type": "code",
   "execution_count": 13,
   "metadata": {},
   "outputs": [],
   "source": [
    "expression_data_df = expression[0]\n",
    "csv_file_path = '/home/user7/AHBA/AHBA_expression_data.csv'\n",
    "expression_data_df.to_csv(csv_file_path,header=True,index=True)"
   ]
  },
  {
   "cell_type": "code",
   "execution_count": 15,
   "metadata": {},
   "outputs": [
    {
     "name": "stdout",
     "output_type": "stream",
     "text": [
      "<class 'pandas.core.frame.DataFrame'>\n",
      "<class 'str'>\n"
     ]
    }
   ],
   "source": [
    "print(type(expression[0]))\n",
    "print(type(expression[1]))"
   ]
  }
 ],
 "metadata": {
  "kernelspec": {
   "display_name": "zeeresearch",
   "language": "python",
   "name": "python3"
  },
  "language_info": {
   "codemirror_mode": {
    "name": "ipython",
    "version": 3
   },
   "file_extension": ".py",
   "mimetype": "text/x-python",
   "name": "python",
   "nbconvert_exporter": "python",
   "pygments_lexer": "ipython3",
   "version": "3.9.18"
  }
 },
 "nbformat": 4,
 "nbformat_minor": 2
}
